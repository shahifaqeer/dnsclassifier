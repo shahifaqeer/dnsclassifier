{
 "metadata": {
  "name": "name_to_type"
 },
 "nbformat": 3,
 "nbformat_minor": 0,
 "worksheets": [
  {
   "cells": [
    {
     "cell_type": "code",
     "collapsed": false,
     "input": [
      "import pickle as pkl\n",
      "name_to_type = {}\n",
      "from collections import defaultdict"
     ],
     "language": "python",
     "metadata": {},
     "outputs": [],
     "prompt_number": 27
    },
    {
     "cell_type": "code",
     "collapsed": false,
     "input": [
      "advert_strings = []\n",
      "f = open('adverts.ini', 'r')\n",
      "for line in f.readlines():\n",
      "    advert_strings.append(line.strip('\\n').replace('*', '[\\S]*'))"
     ],
     "language": "python",
     "metadata": {},
     "outputs": [],
     "prompt_number": 5
    },
    {
     "cell_type": "code",
     "collapsed": false,
     "input": [
      "search_strings"
     ],
     "language": "python",
     "metadata": {},
     "outputs": [
      {
       "output_type": "pyout",
       "prompt_number": 6,
       "text": [
        "['[\\\\S]*-ad.cgi[\\\\S]*',\n",
        " '[\\\\S]*-ads/[\\\\S]*',\n",
        " '[\\\\S]*.ad-[\\\\S]*',\n",
        " '[\\\\S]*.ad.[\\\\S]*',\n",
        " '[\\\\S]*.adbrite.[\\\\S]*',\n",
        " '[\\\\S]*.adrevolver.[\\\\S]*',\n",
        " '[\\\\S]*.ads.[\\\\S]*',\n",
        " '[\\\\S]*.adsonar.[\\\\S]*',\n",
        " '[\\\\S]*.adtomi.[\\\\S]*',\n",
        " '[\\\\S]*.advertising.[\\\\S]*',\n",
        " '[\\\\S]*.atdmt.[\\\\S]*',\n",
        " '[\\\\S]*.banner[\\\\S]*',\n",
        " '[\\\\S]*.blogads.[\\\\S]*',\n",
        " '[\\\\S]*.buysellads.[\\\\S]*',\n",
        " '[\\\\S]*.casalemedia.[\\\\S]*',\n",
        " '[\\\\S]*.chartbeat.[\\\\S]*',\n",
        " '[\\\\S]*.click[\\\\S]*',\n",
        " '[\\\\S]*.directtrack.[\\\\S]*',\n",
        " '[\\\\S]*.doubleclick.[\\\\S]*',\n",
        " '[\\\\S]*.etology.[\\\\S]*',\n",
        " '[\\\\S]*.fastclick.[\\\\S]*',\n",
        " '[\\\\S]*.google.[\\\\S]*/adfetch[\\\\S]*',\n",
        " '[\\\\S]*.googleadservices.[\\\\S]*',\n",
        " '[\\\\S]*.googlesyndication.[\\\\S]*',\n",
        " '[\\\\S]*.googletagservices.[\\\\S]*',\n",
        " '[\\\\S]*.infolinks.[\\\\S]*',\n",
        " '[\\\\S]*.kontera.[\\\\S]*',\n",
        " '[\\\\S]*.linkbuddies.[\\\\S]*',\n",
        " '[\\\\S]*.mochibot.[\\\\S]*',\n",
        " '[\\\\S]*.overture.[\\\\S]*',\n",
        " '[\\\\S]*.pheedo.[\\\\S]*',\n",
        " '[\\\\S]*.qksrv.[\\\\S]*',\n",
        " '[\\\\S]*.quantserve.[\\\\S]*',\n",
        " '[\\\\S]*.roar.[\\\\S]*',\n",
        " '[\\\\S]*.slickkicks.[\\\\S]*',\n",
        " '[\\\\S]*.tradedoubler.[\\\\S]*',\n",
        " '[\\\\S]*.tradepub.[\\\\S]*',\n",
        " '[\\\\S]*.trafficzap.[\\\\S]*',\n",
        " '[\\\\S]*.tribalfusion.[\\\\S]*',\n",
        " '[\\\\S]*.vibrantmedia.[\\\\S]*',\n",
        " '[\\\\S]*.wunderloop.[\\\\S]*',\n",
        " '[\\\\S]*.zedo.[\\\\S]*',\n",
        " '[\\\\S]*/accresults.[\\\\S]*',\n",
        " '[\\\\S]*/ad.[\\\\S]*',\n",
        " '[\\\\S]*/ad/[\\\\S]*',\n",
        " '[\\\\S]*/ad_[\\\\S]*',\n",
        " '[\\\\S]*/adbot.[\\\\S]*',\n",
        " '[\\\\S]*/adc_[\\\\S]*',\n",
        " '[\\\\S]*/adclient.[\\\\S]*',\n",
        " '[\\\\S]*/adcouncil/[\\\\S]*',\n",
        " '[\\\\S]*/adframe.[\\\\S]*',\n",
        " '[\\\\S]*/adgifs/[\\\\S]*',\n",
        " '[\\\\S]*/adgraph/[\\\\S]*',\n",
        " '[\\\\S]*/adimages/[\\\\S]*',\n",
        " '[\\\\S]*/adinfo[\\\\S]*',\n",
        " '[\\\\S]*/adlog.[\\\\S]*',\n",
        " '[\\\\S]*/adlog/[\\\\S]*',\n",
        " '[\\\\S]*/adrotator.[\\\\S]*',\n",
        " '[\\\\S]*/ads.[\\\\S]*',\n",
        " '[\\\\S]*/ads/[\\\\S]*',\n",
        " '[\\\\S]*/ads_[\\\\S]*',\n",
        " '[\\\\S]*/advert[\\\\S]*',\n",
        " '[\\\\S]*/adview.[\\\\S]*',\n",
        " '[\\\\S]*/affiliates/[\\\\S]*.js',\n",
        " '[\\\\S]*/banner/[\\\\S]*',\n",
        " '[\\\\S]*/banners/[\\\\S]*',\n",
        " '[\\\\S]*/hotfreebies.html[\\\\S]*',\n",
        " '[\\\\S]*/housead/[\\\\S]*',\n",
        " '[\\\\S]*/liveads/[\\\\S]*',\n",
        " '[\\\\S]*/pagead/[\\\\S]*',\n",
        " '[\\\\S]*/phpads/[\\\\S]*',\n",
        " '[\\\\S]*/pop.cgi[\\\\S]*',\n",
        " '[\\\\S]*/pop.htm',\n",
        " '[\\\\S]*/pops/[\\\\S]*',\n",
        " '[\\\\S]*/poptest.[\\\\S]*',\n",
        " '[\\\\S]*/popup/[\\\\S]*',\n",
        " '[\\\\S]*/printads/[\\\\S]*',\n",
        " '[\\\\S]*/redir.asp[\\\\S]*',\n",
        " '[\\\\S]*/skyscraper/[\\\\S]*',\n",
        " '[\\\\S]*/softad/[\\\\S]*',\n",
        " '[\\\\S]*/sponsor/[\\\\S]*',\n",
        " '[\\\\S]*/sponsors/[\\\\S]*',\n",
        " '[\\\\S]*/tw/adt[\\\\S]*',\n",
        " '[\\\\S]*120x240[\\\\S]*',\n",
        " '[\\\\S]*120x600[\\\\S]*',\n",
        " '[\\\\S]*120x90[\\\\S]*',\n",
        " '[\\\\S]*160x600[\\\\S]*',\n",
        " '[\\\\S]*234x60[\\\\S]*',\n",
        " '[\\\\S]*336x280[\\\\S]*',\n",
        " '[\\\\S]*468x60[\\\\S]*',\n",
        " '[\\\\S]*728x90[\\\\S]*',\n",
        " '[\\\\S]*_ad.js',\n",
        " '[\\\\S]*_ad_[\\\\S]*',\n",
        " '[\\\\S]*_ads.js',\n",
        " '[\\\\S]*_ads_[\\\\S]*',\n",
        " '[\\\\S]*_advert[\\\\S]*',\n",
        " '[\\\\S]*_adx_[\\\\S]*',\n",
        " '[\\\\S]*_banner_[\\\\S]*',\n",
        " '[\\\\S]*_borders/[\\\\S]*',\n",
        " '[\\\\S]*_superad[\\\\S]*',\n",
        " '[\\\\S]*a.p.f.qz.[\\\\S]*',\n",
        " '[\\\\S]*a.r.tv.[\\\\S]*',\n",
        " '[\\\\S]*ad-flow[\\\\S]*',\n",
        " '[\\\\S]*ad.trafficmp.[\\\\S]*',\n",
        " '[\\\\S]*ad_type[\\\\S]*',\n",
        " '[\\\\S]*adbot[\\\\S]*',\n",
        " '[\\\\S]*adclick[\\\\S]*',\n",
        " '[\\\\S]*adclix[\\\\S]*',\n",
        " '[\\\\S]*adclub[\\\\S]*',\n",
        " '[\\\\S]*adcycle[\\\\S]*',\n",
        " '[\\\\S]*adflight[\\\\S]*',\n",
        " '[\\\\S]*adframe[\\\\S]*',\n",
        " '[\\\\S]*adimage[\\\\S]*',\n",
        " '[\\\\S]*adknowledge[\\\\S]*',\n",
        " '[\\\\S]*adlink[\\\\S]*',\n",
        " '[\\\\S]*adlogix.[\\\\S]*',\n",
        " '[\\\\S]*admaximize[\\\\S]*',\n",
        " '[\\\\S]*admex[\\\\S]*',\n",
        " '[\\\\S]*admonitor[\\\\S]*',\n",
        " '[\\\\S]*adpulse[\\\\S]*',\n",
        " '[\\\\S]*adrunner[\\\\S]*',\n",
        " '[\\\\S]*adserv[\\\\S]*',\n",
        " '[\\\\S]*adsoftware[\\\\S]*',\n",
        " '[\\\\S]*adswap[\\\\S]*',\n",
        " '[\\\\S]*adtomi.[\\\\S]*',\n",
        " '[\\\\S]*aureate[\\\\S]*',\n",
        " '[\\\\S]*avenuea[\\\\S]*',\n",
        " '[\\\\S]*banner.[\\\\S]*',\n",
        " '[\\\\S]*banners.[\\\\S]*',\n",
        " '[\\\\S]*bluestreak.[\\\\S]*',\n",
        " '[\\\\S]*burstmedia[\\\\S]*',\n",
        " '[\\\\S]*burstnet[\\\\S]*',\n",
        " '[\\\\S]*clickxchange[\\\\S]*',\n",
        " '[\\\\S]*darkblue.[\\\\S]*',\n",
        " '[\\\\S]*darkbluesea.[\\\\S]*',\n",
        " '[\\\\S]*dbbsrv.[\\\\S]*',\n",
        " '[\\\\S]*exitpopup[\\\\S]*',\n",
        " '[\\\\S]*flycast[\\\\S]*',\n",
        " '[\\\\S]*focalink[\\\\S]*',\n",
        " '[\\\\S]*headerpopup[\\\\S]*',\n",
        " '[\\\\S]*hitexchange[\\\\S]*',\n",
        " '[\\\\S]*hitlist[\\\\S]*',\n",
        " '[\\\\S]*hitsites[\\\\S]*',\n",
        " '[\\\\S]*houseads_[\\\\S]*',\n",
        " '[\\\\S]*i.us.rmi.yahoo.[\\\\S]*',\n",
        " '[\\\\S]*imaginemedia[\\\\S]*',\n",
        " '[\\\\S]*intellitxt[\\\\S]*',\n",
        " '[\\\\S]*jsads[\\\\S]*',\n",
        " '[\\\\S]*linkads[\\\\S]*',\n",
        " '[\\\\S]*linkexchange[\\\\S]*',\n",
        " '[\\\\S]*linkpopup[\\\\S]*',\n",
        " '[\\\\S]*linkshare[\\\\S]*',\n",
        " '[\\\\S]*linksynergy[\\\\S]*',\n",
        " '[\\\\S]*media.fastclick[\\\\S]*',\n",
        " '[\\\\S]*paypopup[\\\\S]*',\n",
        " '[\\\\S]*popieen.[\\\\S]*',\n",
        " '[\\\\S]*popme.[\\\\S]*',\n",
        " '[\\\\S]*popunder[\\\\S]*',\n",
        " '[\\\\S]*popupad[\\\\S]*',\n",
        " '[\\\\S]*ps.interpolls.[\\\\S]*',\n",
        " '[\\\\S]*radiate[\\\\S]*',\n",
        " '[\\\\S]*secure.webconnect[\\\\S]*',\n",
        " '[\\\\S]*smartsize_[\\\\S]*',\n",
        " '[\\\\S]*spinbox.versiontracker.[\\\\S]*',\n",
        " '[\\\\S]*spylog[\\\\S]*',\n",
        " '[\\\\S]*subs.timeinc.[\\\\S]*',\n",
        " '[\\\\S]*toolbar.google.[\\\\S]*',\n",
        " '[\\\\S]*trafic.ro/[\\\\S]*',\n",
        " '[\\\\S]*us.a1.yimg.[\\\\S]*',\n",
        " '[\\\\S]*us.f.yahoofs.[\\\\S]*',\n",
        " '[\\\\S]*valueclick[\\\\S]*',\n",
        " '[\\\\S]*x.mycity.[\\\\S]*',\n",
        " '[\\\\S]*z.about.[\\\\S]*',\n",
        " '[\\\\S]*zdmcirc[\\\\S]*']"
       ]
      }
     ],
     "prompt_number": 6
    },
    {
     "cell_type": "code",
     "collapsed": false,
     "input": [
      "response_dict = defaultdict(lambda: 'defaultdomainnamehere')\n",
      "response_dict['173.194.63.42']='r5.sn-p5qlsn7l.googlevideo.com'"
     ],
     "language": "python",
     "metadata": {},
     "outputs": [],
     "prompt_number": 36
    },
    {
     "cell_type": "code",
     "collapsed": false,
     "input": [
      "video_strings = {}\n",
      "f = open('video.ini', 'r')\n",
      "for line in f.readlines():\n",
      "    video_strings[line.strip('\\n').replace('*', '[\\S]*')] = 'VIDEO'"
     ],
     "language": "python",
     "metadata": {},
     "outputs": [],
     "prompt_number": 37
    },
    {
     "cell_type": "code",
     "collapsed": false,
     "input": [
      "video_strings"
     ],
     "language": "python",
     "metadata": {},
     "outputs": [
      {
       "output_type": "pyout",
       "prompt_number": 38,
       "text": [
        "{'[\\\\S]*.googlevideo.com': 'VIDEO'}"
       ]
      }
     ],
     "prompt_number": 38
    },
    {
     "cell_type": "code",
     "collapsed": false,
     "input": [
      "video_strings.keys()[0]"
     ],
     "language": "python",
     "metadata": {},
     "outputs": [
      {
       "output_type": "pyout",
       "prompt_number": 39,
       "text": [
        "'[\\\\S]*.googlevideo.com'"
       ]
      }
     ],
     "prompt_number": 39
    },
    {
     "cell_type": "code",
     "collapsed": false,
     "input": [
      "response_dict['sjsja']"
     ],
     "language": "python",
     "metadata": {},
     "outputs": [
      {
       "output_type": "pyout",
       "prompt_number": 40,
       "text": [
        "'defaultdomainnamehere'"
       ]
      }
     ],
     "prompt_number": 40
    },
    {
     "cell_type": "code",
     "collapsed": false,
     "input": [
      "import re\n"
     ],
     "language": "python",
     "metadata": {},
     "outputs": [],
     "prompt_number": 41
    },
    {
     "cell_type": "code",
     "collapsed": false,
     "input": [
      "found = re.search(video_strings.keys()[0], response_dict['17.194.63.42'])"
     ],
     "language": "python",
     "metadata": {},
     "outputs": [],
     "prompt_number": 42
    },
    {
     "cell_type": "code",
     "collapsed": false,
     "input": [
      "found is None"
     ],
     "language": "python",
     "metadata": {},
     "outputs": [
      {
       "output_type": "pyout",
       "prompt_number": 45,
       "text": [
        "True"
       ]
      }
     ],
     "prompt_number": 45
    },
    {
     "cell_type": "code",
     "collapsed": false,
     "input": [
      "name_to_type['doubleclick'] = 'ADVERT'"
     ],
     "language": "python",
     "metadata": {},
     "outputs": [],
     "prompt_number": 4
    },
    {
     "cell_type": "code",
     "collapsed": false,
     "input": [
      "name_to_type"
     ],
     "language": "python",
     "metadata": {},
     "outputs": [
      {
       "output_type": "pyout",
       "prompt_number": 5,
       "text": [
        "{'doubleclick': 'ADVERT'}"
       ]
      }
     ],
     "prompt_number": 5
    },
    {
     "cell_type": "code",
     "collapsed": false,
     "input": [
      "pkl.dump(name_to_type, open('dns_type_mappings.pkl', 'wb'))"
     ],
     "language": "python",
     "metadata": {},
     "outputs": [],
     "prompt_number": 6
    },
    {
     "cell_type": "code",
     "collapsed": false,
     "input": [],
     "language": "python",
     "metadata": {},
     "outputs": []
    }
   ],
   "metadata": {}
  }
 ]
}